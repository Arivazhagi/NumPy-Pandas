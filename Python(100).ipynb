{
 "cells": [
  {
   "cell_type": "code",
   "execution_count": 7,
   "id": "121911e1",
   "metadata": {},
   "outputs": [],
   "source": [
    "# Interview Questions:(Model)"
   ]
  },
  {
   "cell_type": "code",
   "execution_count": 4,
   "id": "0acd89b4",
   "metadata": {},
   "outputs": [
    {
     "name": "stdout",
     "output_type": "stream",
     "text": [
      "2002,2009,2016,2023,2037,2044,2051,2058,2072,2079,2086,2093,2107,2114,2121,2128,2142,2149,2156,2163,2177,2184,2191,2198,2212,2219,2226,2233,2247,2254,2261,2268,2282,2289,2296,2303,2317,2324,2331,2338,2352,2359,2366,2373,2387,2394,2401,2408,2422,2429,2436,2443,2457,2464,2471,2478,2492,2499,2506,2513,2527,2534,2541,2548,2562,2569,2576,2583,2597,2604,2611,2618,2632,2639,2646,2653,2667,2674,2681,2688,2702,2709,2716,2723,2737,2744,2751,2758,2772,2779,2786,2793,2807,2814,2821,2828,2842,2849,2856,2863,2877,2884,2891,2898,2912,2919,2926,2933,2947,2954,2961,2968,2982,2989,2996,3003,3017,3024,3031,3038,3052,3059,3066,3073,3087,3094,3101,3108,3122,3129,3136,3143,3157,3164,3171,3178,3192,3199\n"
     ]
    }
   ],
   "source": [
    "# 1. Write a program which will find all such numbers which are divisible by 7 but not a multiple of 5, b/w 2000\n",
    "#   and 3200(both included). The number obtained should be printed in a comma-separated sequence on a single line.\n",
    "\n",
    "class Program:\n",
    "    def numbers(self):\n",
    "        num = []\n",
    "        for x in range(2000,3201):\n",
    "            if (x%7 == 0) and (x%5 !=0):\n",
    "                num.append(str(x))\n",
    "        print(','.join(num)) \n",
    "obj = Program()\n",
    "obj.numbers()"
   ]
  },
  {
   "cell_type": "code",
   "execution_count": 1,
   "id": "e78c48b2",
   "metadata": {},
   "outputs": [
    {
     "name": "stdout",
     "output_type": "stream",
     "text": [
      "Enter the number = 5\n",
      "The factorial is 120\n"
     ]
    }
   ],
   "source": [
    "# 2. Write a program which can compute the factorial of a given numbers. The results should be printed in a comma\n",
    "#    separated sequence on a single line. \n",
    "#    Suppose the following input is supplied to the program: 8 Then,the o/p should be 40320.\n",
    "\n",
    "class Factorial:\n",
    "    def coding(self):\n",
    "        num = int(input(\"Enter the number = \"))\n",
    "        fact = 1\n",
    "        while(num > 1):\n",
    "            fact *= num\n",
    "            num -= 1\n",
    "        print(\"The factorial is %d\"%fact)    \n",
    "obj = Factorial()        \n",
    "obj.coding()"
   ]
  },
  {
   "cell_type": "code",
   "execution_count": 3,
   "id": "034623d6",
   "metadata": {},
   "outputs": [
    {
     "name": "stdout",
     "output_type": "stream",
     "text": [
      "number = 10\n",
      "{1: 1, 2: 4, 3: 9, 4: 16, 5: 25, 6: 36, 7: 49, 8: 64, 9: 81, 10: 100}\n"
     ]
    }
   ],
   "source": [
    "# 3. With the give integral number n, write a program to generate a dictionary that contains(i, i*i) such ,that is\n",
    "#    an integral number b/w 1 and n(both included). and then the program sould print the dictionary.\n",
    "#    Suppose the following input is supplied to the program: 8 \n",
    "#     Then,the o/p should be: {1:1, 2:4, 3:9, 4:16, 5:25, 6:36, 7:49, 8:64}\n",
    "\n",
    "class Dictionary:\n",
    "    def coding(self):\n",
    "        n = int(input(\"number = \"))\n",
    "        dic = {}\n",
    "        for x in range(1,n+1):\n",
    "            dic[x] = x*x\n",
    "        print(dic)  \n",
    "obj = Dictionary()\n",
    "obj.coding()"
   ]
  },
  {
   "cell_type": "code",
   "execution_count": 4,
   "id": "ad2178b9",
   "metadata": {},
   "outputs": [
    {
     "name": "stdout",
     "output_type": "stream",
     "text": [
      "Enter the numbers: 33,78,56,45,92,11\n",
      "['33', '78', '56', '45', '92', '11']\n",
      "('33', '78', '56', '45', '92', '11')\n"
     ]
    }
   ],
   "source": [
    "# 4. Write a program which accepts a sequence of comma-separated numbers from console and generate a list and a\n",
    "#    tuple which contains every number.\n",
    "#    Suppose the supplied input is: 34,67,55,33,12,98\n",
    "#     Then the o/p be: ['34','67','55','33','12','98']  ('34','67','55','33','12','98')\n",
    "\n",
    "class Program:\n",
    "    def coding(self):\n",
    "        number = input(\"Enter the numbers: \")\n",
    "        num = number.split(\",\")\n",
    "        print(list(num))\n",
    "        print(tuple(num))\n",
    "obj = Program()        \n",
    "obj.coding()"
   ]
  },
  {
   "cell_type": "code",
   "execution_count": 5,
   "id": "13fffe90",
   "metadata": {},
   "outputs": [
    {
     "name": "stdout",
     "output_type": "stream",
     "text": [
      "This is getString method\n",
      "Enter your name: Arivazhagi\n",
      "This is printString method\n",
      "ARIVAZHAGI\n"
     ]
    }
   ],
   "source": [
    "# 5. Define a class which has at least two methods:- getString:to get a string from console i/p\n",
    "#    printString:to print the string in uppercase. Also include simple test function to test class methods.\n",
    "\n",
    "class Program:\n",
    "    def __init__(self):\n",
    "        self.name = \"\"\n",
    "        \n",
    "    def getString(self): \n",
    "        print(\"This is getString method\")\n",
    "        self.name = input(\"Enter your name: \")\n",
    "        \n",
    "    def printString(self):\n",
    "        print(\"This is printString method\")\n",
    "        print((obj.name).upper())\n",
    "        \n",
    "obj = Program() \n",
    "obj.getString()\n",
    "obj.printString()"
   ]
  },
  {
   "cell_type": "code",
   "execution_count": 7,
   "id": "b6cf96b8",
   "metadata": {},
   "outputs": [
    {
     "name": "stdout",
     "output_type": "stream",
     "text": [
      "100,120,160,180\n",
      "18,20,23,24\n"
     ]
    }
   ],
   "source": [
    "# 6. Write a program that calculates and prints the value according to the formula:\n",
    "#    Q = Squareroot of [(2*C*D)/H]. where, C = 50, H = 30. D is comma-separated console i/p.\n",
    "#    eg. if i/p = 100,150,180. Then o/p will be = 18,22,24.\n",
    "\n",
    "import math\n",
    "\n",
    "class Program:\n",
    "    def calculation(self):\n",
    "        C = 50\n",
    "        H = 30\n",
    "        Q = []\n",
    "        items =[x for x in input().split(',')]\n",
    "        for D in items:\n",
    "            calc = str(int(round(math.sqrt(2*C*float(D)/H))))\n",
    "            Q.append(calc)\n",
    "        print(','.join(Q))    \n",
    "obj=Program()        \n",
    "obj.calculation()"
   ]
  },
  {
   "cell_type": "code",
   "execution_count": 9,
   "id": "7d87c212",
   "metadata": {
    "scrolled": true
   },
   "outputs": [
    {
     "name": "stdout",
     "output_type": "stream",
     "text": [
      "Enter the words: without,hello,bag,beg,world\n",
      "['bag', 'beg', 'hello', 'without', 'world']\n",
      "\n",
      "with,bag,hey,world,wonder\n",
      "bag,hey,with,wonder,world\n"
     ]
    }
   ],
   "source": [
    "# 8. Write a program that accepts a comma separated sequence of words as i/p and print the words in a comma \n",
    "#    separated sequence after sorting them in alphabetically.\n",
    "\n",
    "class Program:\n",
    "    def alphabetically(self):\n",
    "        sequence = input(\"Enter the words: \")\n",
    "        words = sequence.split(',')                 # gives o/p in list format\n",
    "        arrange = sorted(words)\n",
    "        print(arrange)\n",
    "obj= Program()        \n",
    "obj.alphabetically()\n",
    "\n",
    "# Another method:\n",
    "print()\n",
    "\n",
    "words = [x for x in input().split(',')]               # crt method\n",
    "words.sort()  \n",
    "print(','.join(words))"
   ]
  },
  {
   "cell_type": "code",
   "execution_count": 10,
   "id": "f8dd9099",
   "metadata": {},
   "outputs": [
    {
     "name": "stdout",
     "output_type": "stream",
     "text": [
      "Practice makes perfect\n",
      "PRACTICE MAKES PERFECT\n"
     ]
    }
   ],
   "source": [
    "# 9. Write a program that accepts sequence of lines as i/p and print it after making all the characters in the \n",
    "#    sentence capitalized.\n",
    "\n",
    "class Program:\n",
    "    def coding(self):\n",
    "        sentence = input()\n",
    "        line = sentence.upper()\n",
    "        print(line)\n",
    "obj = Program()\n",
    "obj.coding()"
   ]
  },
  {
   "cell_type": "code",
   "execution_count": 13,
   "id": "c02e5804",
   "metadata": {},
   "outputs": [
    {
     "name": "stdout",
     "output_type": "stream",
     "text": [
      "hello world and hello jupyter\n",
      "and hello jupyter world\n"
     ]
    }
   ],
   "source": [
    "# 10. Write a program that accepts sequence of sequence of whitespace separated words as i/p and prints it after\n",
    "#     removing all duplicate words and sorting them alphabetically.\n",
    "\n",
    "class Program:\n",
    "    def coding(self):\n",
    "        words = [x for x in input().split(\" \")]               # crt method \n",
    "        print(\" \".join(sorted(list(set(words)))))\n",
    "        \n",
    "obj = Program()\n",
    "obj.coding()"
   ]
  },
  {
   "cell_type": "code",
   "execution_count": 1,
   "id": "7190d649",
   "metadata": {
    "scrolled": true
   },
   "outputs": [
    {
     "name": "stdout",
     "output_type": "stream",
     "text": [
      "0100,0011,1010,1001,1111,1100,0101\n",
      "1010,1111,0101\n"
     ]
    }
   ],
   "source": [
    "# 11. Write a program that accepts a comma separated sequence of 4 digit binary numbers as its i/p & then check\n",
    "#     whether they are divisible by 5 or not. The numbers divisible by 5 are printed in comma separated type.\n",
    "\n",
    "class Program:\n",
    "    def coding(self):\n",
    "        num = []\n",
    "        value = [x for x in input().split(',')]\n",
    "        for y in value:\n",
    "            i = int(y,2)\n",
    "            if i%5 == 0 :\n",
    "                num.append(y)\n",
    "        print(\",\".join(num))\n",
    "        \n",
    "obj = Program()\n",
    "obj.coding()"
   ]
  },
  {
   "cell_type": "code",
   "execution_count": 2,
   "id": "4d2f9e04",
   "metadata": {},
   "outputs": [
    {
     "name": "stdout",
     "output_type": "stream",
     "text": [
      "2000,2002,2004,2006,2008,2020,2022,2024,2026,2028,2040,2042,2044,2046,2048,2060,2062,2064,2066,2068,2080,2082,2084,2086,2088,2200,2202,2204,2206,2208,2220,2222,2224,2226,2228,2240,2242,2244,2246,2248,2260,2262,2264,2266,2268,2280,2282,2284,2286,2288,2400,2402,2404,2406,2408,2420,2422,2424,2426,2428,2440,2442,2444,2446,2448,2460,2462,2464,2466,2468,2480,2482,2484,2486,2488,2600,2602,2604,2606,2608,2620,2622,2624,2626,2628,2640,2642,2644,2646,2648,2660,2662,2664,2666,2668,2680,2682,2684,2686,2688,2800,2802,2804,2806,2808,2820,2822,2824,2826,2828,2840,2842,2844,2846,2848,2860,2862,2864,2866,2868,2880,2882,2884,2886,2888\n"
     ]
    }
   ],
   "source": [
    "# 12. Write a program, which will find all such nos. b/w 1000 - 3000(both included) such that each digit of the\n",
    "#      number is an even number.The o/p should be separated by comma.\n",
    "\n",
    "class Program:\n",
    "    def coding(self):\n",
    "        num = []\n",
    "        for x in range(1000,3001):\n",
    "            y = str(x)\n",
    "            if (int(y[0])%2 == 0) and (int(y[1])%2 == 0) and (int(y[2])%2 == 0) and (int(y[3])%2 == 0):\n",
    "                num.append(y)\n",
    "        print(','.join(num))\n",
    "\n",
    "obj = Program()\n",
    "obj.coding()"
   ]
  },
  {
   "cell_type": "code",
   "execution_count": 3,
   "id": "06a17bda",
   "metadata": {},
   "outputs": [
    {
     "name": "stdout",
     "output_type": "stream",
     "text": [
      "Hello Anu! 786\n",
      "Letters 8\n",
      "Digits 3\n"
     ]
    }
   ],
   "source": [
    "# 13. Write a program that accepts a sentence & calc the number of letters and digits.\n",
    "#      eg. i/p = hello world! 123 , Then o/p = Letters 10   Digits 3\n",
    "\n",
    "class Program:\n",
    "    def coding(self):\n",
    "        a = 0\n",
    "        b = 0\n",
    "        sentence = input()\n",
    "        for x in sentence:\n",
    "            if x.isalpha():\n",
    "                a += 1\n",
    "            elif x.isdigit():\n",
    "                b += 1\n",
    "        print(\"Letters %d\"%a)\n",
    "        print(\"Digits %d\"%b)\n",
    "        \n",
    "obj = Program()\n",
    "obj.coding()        "
   ]
  },
  {
   "cell_type": "code",
   "execution_count": 2,
   "id": "13e99269",
   "metadata": {},
   "outputs": [
    {
     "name": "stdout",
     "output_type": "stream",
     "text": [
      "Hello World\n",
      "UpperCase letters 2\n",
      "LowerCase letters 8\n"
     ]
    }
   ],
   "source": [
    "# 14. Write a program that accepts a sentence and calc the number of upper & lower case letters.\n",
    "#     eg: i/p = Hello world! , then o/p = upper-1  lower-9\n",
    "\n",
    "class Program:\n",
    "    def coding(self):\n",
    "        a = 0\n",
    "        b = 0\n",
    "        sentence = input()\n",
    "        for x in sentence:\n",
    "            if x.isupper():\n",
    "                a += 1\n",
    "            elif x.islower():\n",
    "                b += 1\n",
    "        print(\"UpperCase letters %d\"%a)\n",
    "        print(\"LowerCase letters %d\"%b)\n",
    "        \n",
    "obj = Program()\n",
    "obj.coding()        "
   ]
  },
  {
   "cell_type": "code",
   "execution_count": 4,
   "id": "b578fb9b",
   "metadata": {},
   "outputs": [
    {
     "name": "stdout",
     "output_type": "stream",
     "text": [
      "9\n",
      "11106\n"
     ]
    }
   ],
   "source": [
    "# 15. Write a program that computes the value of a+aa+aaa+aaaa with the given digits as the value of a.\n",
    "\n",
    "class Program:\n",
    "    def coding(self):\n",
    "        a = input()\n",
    "        n1 = int(\"%s\"%a)\n",
    "        n2 = int(\"%s%s\"%(a,a))\n",
    "        n3 = int(\"%s%s%s\"%(a,a,a))\n",
    "        n4 = int(\"%s%s%s%s\"%(a,a,a,a))\n",
    "        value = n1+n2+n3+n4\n",
    "        print(value)\n",
    "obj = Program()        \n",
    "obj.coding()"
   ]
  },
  {
   "cell_type": "code",
   "execution_count": 5,
   "id": "eef54581",
   "metadata": {},
   "outputs": [
    {
     "name": "stdout",
     "output_type": "stream",
     "text": [
      "1,2,3,4,5,6,7,8,9,10,11,12,13,14,15\n",
      "1,3,5,7,9,11,13,15\n"
     ]
    }
   ],
   "source": [
    "# 16. Use a list comprehension to square each odd numbers in the list. The list i/p by comma separated types\n",
    "#      eg: i/p = 1,2,3,4,5,6,7,8,9  , then o/p = 1,3,5,7,9\n",
    "\n",
    "class Program:\n",
    "    def coding(self):\n",
    "        numbers = []\n",
    "        values = [x for x in input().split(',')]\n",
    "        for i in values:\n",
    "            if int(i)%2 != 0 :\n",
    "                numbers.append(i)\n",
    "            else:\n",
    "                pass\n",
    "        print(\",\".join(numbers))    \n",
    "obj = Program()\n",
    "obj.coding()"
   ]
  },
  {
   "cell_type": "code",
   "execution_count": 7,
   "id": "09e24fec",
   "metadata": {},
   "outputs": [
    {
     "name": "stdout",
     "output_type": "stream",
     "text": [
      "Enter the number: 9\n"
     ]
    },
    {
     "data": {
      "text/plain": [
       "81"
      ]
     },
     "execution_count": 7,
     "metadata": {},
     "output_type": "execute_result"
    }
   ],
   "source": [
    "# 23. Write a method which can calculate square value of number:\n",
    "\n",
    "class Program:\n",
    "    def coding(self):\n",
    "        num = int(input(\"Enter the number: \"))\n",
    "        calc = num**2\n",
    "        return calc\n",
    "obj = Program()\n",
    "obj.coding()"
   ]
  },
  {
   "cell_type": "code",
   "execution_count": 5,
   "id": "9265d482",
   "metadata": {
    "scrolled": true
   },
   "outputs": [
    {
     "ename": "AttributeError",
     "evalue": "'builtin_function_or_method' object has no attribute '_doc_'",
     "output_type": "error",
     "traceback": [
      "\u001b[0;31m---------------------------------------------------------------------------\u001b[0m",
      "\u001b[0;31mAttributeError\u001b[0m                            Traceback (most recent call last)",
      "\u001b[0;32m<ipython-input-5-e460b76689b6>\u001b[0m in \u001b[0;36m<module>\u001b[0;34m\u001b[0m\n\u001b[1;32m      2\u001b[0m \u001b[0;31m#     And document of your own function.\u001b[0m\u001b[0;34m\u001b[0m\u001b[0;34m\u001b[0m\u001b[0;34m\u001b[0m\u001b[0m\n\u001b[1;32m      3\u001b[0m \u001b[0;34m\u001b[0m\u001b[0m\n\u001b[0;32m----> 4\u001b[0;31m \u001b[0mprint\u001b[0m\u001b[0;34m(\u001b[0m\u001b[0mabs\u001b[0m\u001b[0;34m.\u001b[0m\u001b[0m_doc_\u001b[0m\u001b[0;34m)\u001b[0m\u001b[0;34m\u001b[0m\u001b[0;34m\u001b[0m\u001b[0m\n\u001b[0m\u001b[1;32m      5\u001b[0m \u001b[0mprint\u001b[0m\u001b[0;34m(\u001b[0m\u001b[0mint\u001b[0m\u001b[0;34m.\u001b[0m\u001b[0m_doc_\u001b[0m\u001b[0;34m)\u001b[0m\u001b[0;34m\u001b[0m\u001b[0;34m\u001b[0m\u001b[0m\n\u001b[1;32m      6\u001b[0m \u001b[0mprint\u001b[0m\u001b[0;34m(\u001b[0m\u001b[0minput\u001b[0m\u001b[0;34m.\u001b[0m\u001b[0m_doc_\u001b[0m\u001b[0;34m)\u001b[0m\u001b[0;34m\u001b[0m\u001b[0;34m\u001b[0m\u001b[0m\n",
      "\u001b[0;31mAttributeError\u001b[0m: 'builtin_function_or_method' object has no attribute '_doc_'"
     ]
    }
   ],
   "source": [
    "# 24. Write a program to print some Python built-in functions documents,such as abs(),int(),raw_input().\n",
    "#     And document of your own function.\n",
    "\n",
    "print(abs._doc_)\n",
    "print(int._doc_)\n",
    "print(input._doc_)"
   ]
  },
  {
   "cell_type": "code",
   "execution_count": 1,
   "id": "3f397ce8",
   "metadata": {},
   "outputs": [
    {
     "name": "stdout",
     "output_type": "stream",
     "text": [
      "Anu\n"
     ]
    }
   ],
   "source": [
    "# 25. Define a class, which have a class parameter and have a same instance parameter.\n",
    "\n",
    "class Student:\n",
    "    name = \"Student\"\n",
    "    \n",
    "    def __init__(self,name):\n",
    "        self.name = name\n",
    "\n",
    "obj = Student(\"Anu\")\n",
    "print(obj.name)"
   ]
  },
  {
   "cell_type": "code",
   "execution_count": 2,
   "id": "986ea43c",
   "metadata": {},
   "outputs": [
    {
     "data": {
      "text/plain": [
       "11"
      ]
     },
     "execution_count": 2,
     "metadata": {},
     "output_type": "execute_result"
    }
   ],
   "source": [
    "# 26. Define a function which can compute the sum of two numbers.\n",
    "\n",
    "def addition(a,b):\n",
    "    c = a+b\n",
    "    return c\n",
    "addition(5,6)"
   ]
  },
  {
   "cell_type": "code",
   "execution_count": 3,
   "id": "9fda09b7",
   "metadata": {},
   "outputs": [
    {
     "name": "stdout",
     "output_type": "stream",
     "text": [
      "9\n"
     ]
    },
    {
     "data": {
      "text/plain": [
       "'9'"
      ]
     },
     "execution_count": 3,
     "metadata": {},
     "output_type": "execute_result"
    }
   ],
   "source": [
    "# 27. Define a function that convert a integer into a string & print it in console.Hint: str() converts to string\n",
    "# 28 and 27 are same questions\n",
    "def coding(x):\n",
    "    return str(x)\n",
    "x = int(input())\n",
    "coding(x)    "
   ]
  },
  {
   "cell_type": "code",
   "execution_count": 1,
   "id": "4193f1a3",
   "metadata": {},
   "outputs": [
    {
     "data": {
      "text/plain": [
       "11"
      ]
     },
     "execution_count": 1,
     "metadata": {},
     "output_type": "execute_result"
    }
   ],
   "source": [
    "# 29. Define a function that can receive two integral numbers in string form and compute their sum & \n",
    "#     then print it in console. Hint: Use int() to convert a string to integer.\n",
    "\n",
    "def coding(a,b):\n",
    "    c = int(a) + int(b)\n",
    "    return c\n",
    "coding('5','6')    "
   ]
  },
  {
   "cell_type": "code",
   "execution_count": 2,
   "id": "e6fe02b3",
   "metadata": {},
   "outputs": [
    {
     "data": {
      "text/plain": [
       "'AlfiIndia'"
      ]
     },
     "execution_count": 2,
     "metadata": {},
     "output_type": "execute_result"
    }
   ],
   "source": [
    "# 30. Define a function that can accept two strings as input and concatenate them and then print it in console.\n",
    "\n",
    "def details(name,country):\n",
    "    return name+country\n",
    "details(\"Alfi\",\"India\")"
   ]
  },
  {
   "cell_type": "code",
   "execution_count": 9,
   "id": "d31a1158",
   "metadata": {},
   "outputs": [
    {
     "name": "stdout",
     "output_type": "stream",
     "text": [
      "anu\n",
      "Anu\n"
     ]
    }
   ],
   "source": [
    "# 31. Define a function that can accept two strings as input and print the string with maximum length in console. \n",
    "#     If two strings have the same length, then the function should print all strings line by line.\n",
    "\n",
    "def coding(s1,s2):\n",
    "    len1 = len(s1)\n",
    "    len2 = len(s2)\n",
    "    if len1 > len2 :\n",
    "        print(s1)\n",
    "    elif len1 < len2 :\n",
    "        print(s2)\n",
    "    else:\n",
    "        print(s1)\n",
    "        print(s2)\n",
    "        \n",
    "coding(\"anu\",\"Anu\")    "
   ]
  },
  {
   "cell_type": "code",
   "execution_count": 10,
   "id": "e5fe0980",
   "metadata": {},
   "outputs": [
    {
     "name": "stdout",
     "output_type": "stream",
     "text": [
      "8\n",
      "It is an even number.\n"
     ]
    }
   ],
   "source": [
    "#32. Define a function that can accept an integer number as input & print the “It is an even number” if the number\n",
    "#    is even, otherwise print “It is an odd number”.\n",
    "\n",
    "def coding(a):\n",
    "    if a%2 == 0 :\n",
    "        print(\"It is an even number.\")\n",
    "    else:\n",
    "        print(\"It is an odd number.\")\n",
    "a = int(input())\n",
    "coding(a)"
   ]
  },
  {
   "cell_type": "code",
   "execution_count": 12,
   "id": "c37c4e7f",
   "metadata": {},
   "outputs": [
    {
     "data": {
      "text/plain": [
       "{1: 1, 2: 4, 3: 9}"
      ]
     },
     "execution_count": 12,
     "metadata": {},
     "output_type": "execute_result"
    }
   ],
   "source": [
    "# 33. Define a function which can print a dictionary where the keys are numbers b/w 1 and 3 (both included) & the\n",
    "#     values are square of keys.\n",
    "#  Hint: Use dict[key]=value pattern to put entry into a dictionary.Use ** operator to get power of a number.\n",
    "\n",
    "def coding():\n",
    "    a= {}\n",
    "    a[1] = 1**2\n",
    "    a[2] = 2**2\n",
    "    a[3] = 3**2\n",
    "    return a\n",
    "coding()    "
   ]
  },
  {
   "cell_type": "code",
   "execution_count": 13,
   "id": "e90155e2",
   "metadata": {},
   "outputs": [
    {
     "name": "stdout",
     "output_type": "stream",
     "text": [
      "{1: 1, 2: 4, 3: 9, 4: 16, 5: 25, 6: 36, 7: 49, 8: 64, 9: 81, 10: 100, 11: 121, 12: 144, 13: 169, 14: 196, 15: 225, 16: 256, 17: 289, 18: 324, 19: 361, 20: 400}\n"
     ]
    }
   ],
   "source": [
    "# 34. Define a function which can print a dictionary where the keys are numbers b/w 1 and 20 (both included) &\n",
    "#     the values are square of keys.\n",
    "#   Hint: Use dict[key]=value pattern to put entry into a dictionary.Use ** operator to get power of a number.\n",
    "#         Use range() for loops.\n",
    "\n",
    "def coding():\n",
    "    a = {}\n",
    "    for x in range(1,21):\n",
    "        a[x] = x**2\n",
    "    print(a)  \n",
    "coding()    "
   ]
  },
  {
   "cell_type": "code",
   "execution_count": 1,
   "id": "8bca990a",
   "metadata": {},
   "outputs": [
    {
     "name": "stdout",
     "output_type": "stream",
     "text": [
      "1\n",
      "4\n",
      "9\n",
      "16\n",
      "25\n",
      "36\n",
      "49\n",
      "64\n",
      "81\n",
      "100\n",
      "121\n",
      "144\n",
      "169\n",
      "196\n",
      "225\n",
      "256\n",
      "289\n",
      "324\n",
      "361\n",
      "400\n"
     ]
    }
   ],
   "source": [
    "# 35. Define a function which can generate a dictionary where the keys are numbers b/w 1 and 20 (both included) &\n",
    "#     the values are square of keys. The function should just print the values only.\n",
    "#  Hints:Use dict[key]=value pattern to put entry into a dictionary.Use ** operator to get power of a number.\n",
    "#        Use range() for loops.Use keys() to iterate keys in the dictionary. Also we can use item() to get \n",
    "#          key/value pairs.\n",
    "\n",
    "def coding():\n",
    "    a = {}\n",
    "    for x in range(1,21):\n",
    "        a[x] = x**2\n",
    "    for (k,v) in a.items():\n",
    "        print(v)\n",
    "coding()   "
   ]
  },
  {
   "cell_type": "code",
   "execution_count": 2,
   "id": "25f089b9",
   "metadata": {},
   "outputs": [
    {
     "name": "stdout",
     "output_type": "stream",
     "text": [
      "1\n",
      "2\n",
      "3\n",
      "4\n",
      "5\n",
      "6\n",
      "7\n",
      "8\n",
      "9\n",
      "10\n",
      "11\n",
      "12\n",
      "13\n",
      "14\n",
      "15\n",
      "16\n",
      "17\n",
      "18\n",
      "19\n",
      "20\n"
     ]
    }
   ],
   "source": [
    "# 36. Similar to 35 but it should print the keys alone\n",
    "\n",
    "def coding():\n",
    "    a = {}\n",
    "    for x in range(1,21):\n",
    "        a[x] = x**2\n",
    "    for (k,v) in a.items():\n",
    "        print(k)\n",
    "coding()  "
   ]
  },
  {
   "cell_type": "code",
   "execution_count": 3,
   "id": "0993314b",
   "metadata": {},
   "outputs": [
    {
     "name": "stdout",
     "output_type": "stream",
     "text": [
      "[1, 4, 9, 16, 25, 36, 49, 64, 81, 100, 121, 144, 169, 196, 225, 256, 289, 324, 361, 400]\n"
     ]
    }
   ],
   "source": [
    "# 37. Define a function which can generate & print a list where the values are square of numbers b/w 1 and 20 \n",
    "#     (both included).\n",
    "\n",
    "def coding():\n",
    "    values = []\n",
    "    for x in range(1,21):\n",
    "        a = x**2\n",
    "        values.append(a)\n",
    "    print(values) \n",
    "coding()"
   ]
  },
  {
   "cell_type": "code",
   "execution_count": 5,
   "id": "02662001",
   "metadata": {},
   "outputs": [
    {
     "name": "stdout",
     "output_type": "stream",
     "text": [
      "[1, 4, 9, 16, 25]\n"
     ]
    }
   ],
   "source": [
    "# 38. Define a function which can generate a list where the values are square of numbers b/w 1 and 20 \n",
    "#     (both included). Then the function needs to print the first 5 elements in the list.\n",
    "#  Hints: Use ** operator to get power of a number. Use range() for loops.\n",
    "#         Use list.append() to add values into a list.Use [n1:n2] to slice a list\n",
    "\n",
    "def coding():\n",
    "    values = []\n",
    "    for x in range(1,21):\n",
    "        a = x**2\n",
    "        values.append(a)\n",
    "    print(values[0:5]) \n",
    "coding()"
   ]
  },
  {
   "cell_type": "code",
   "execution_count": 6,
   "id": "c1f45903",
   "metadata": {},
   "outputs": [
    {
     "name": "stdout",
     "output_type": "stream",
     "text": [
      "[256, 289, 324, 361, 400]\n"
     ]
    }
   ],
   "source": [
    "# 39. same as 38, but to print last 5 elements.\n",
    "\n",
    "def coding():\n",
    "    values = []\n",
    "    for x in range(1,21):\n",
    "        a = x**2\n",
    "        values.append(a)\n",
    "    print(values[-5:]) \n",
    "coding()"
   ]
  },
  {
   "cell_type": "code",
   "execution_count": 7,
   "id": "719272fd",
   "metadata": {},
   "outputs": [
    {
     "name": "stdout",
     "output_type": "stream",
     "text": [
      "[36, 49, 64, 81, 100, 121, 144, 169, 196, 225, 256, 289, 324, 361, 400]\n"
     ]
    }
   ],
   "source": [
    "# 40. same as 38, but to print all values except first 5 elements.\n",
    "\n",
    "def coding():\n",
    "    values = []\n",
    "    for x in range(1,21):\n",
    "        a = x**2\n",
    "        values.append(a)\n",
    "    del values[0:5]    \n",
    "    print(values)\n",
    "coding()    "
   ]
  },
  {
   "cell_type": "code",
   "execution_count": 9,
   "id": "ad17142b",
   "metadata": {},
   "outputs": [
    {
     "name": "stdout",
     "output_type": "stream",
     "text": [
      "(1, 4, 9, 16, 25, 36, 49, 64, 81, 100, 121, 144, 169, 196, 225, 256, 289, 324, 361, 400)\n"
     ]
    }
   ],
   "source": [
    "# 41. Define a function which can generate & print a tuple where the value are square of numbers b/w 1 and 20 \n",
    "#     (both included). Hints:Use ** operator to get power of a number.Use range() for loops.\n",
    "#      Use list.append() to add values into a list.Use tuple() to get a tuple from a list.\n",
    "\n",
    "def function():\n",
    "    value = []\n",
    "    for x in range(1,21):\n",
    "        a = x**2\n",
    "        value.append(a)\n",
    "    ans = tuple(value)\n",
    "    print(ans)\n",
    "function()    "
   ]
  },
  {
   "cell_type": "code",
   "execution_count": 10,
   "id": "f0e8f01c",
   "metadata": {},
   "outputs": [
    {
     "name": "stdout",
     "output_type": "stream",
     "text": [
      "(1, 2, 3, 4, 5)\n",
      "(6, 7, 8, 9, 10)\n"
     ]
    }
   ],
   "source": [
    "# 42. With a given tuple (1,2,3,4,5,6,7,8,9,10), write a program to print the first half values in one line and \n",
    "#     the last half values in one line.  Hints:Use [n1:n2] notation to get a slice from a tuple.\n",
    "\n",
    "def function():\n",
    "    values = (1,2,3,4,5,6,7,8,9,10)\n",
    "    first_line = values[0:5]\n",
    "    second_line = values[-5:]\n",
    "    print(first_line)\n",
    "    print(second_line)\n",
    "function()    "
   ]
  },
  {
   "cell_type": "code",
   "execution_count": 11,
   "id": "4164f323",
   "metadata": {},
   "outputs": [
    {
     "name": "stdout",
     "output_type": "stream",
     "text": [
      "(2, 4, 6, 8, 10)\n"
     ]
    }
   ],
   "source": [
    "# 43. Write a program to generate and print another tuple whose values are even numbers in the given\n",
    "#     tuple (1,2,3,4,5,6,7,8,9,10). \n",
    "#    Hints:Use “for” to iterate the tuple. Use tuple() to generate a tuple from a list.\n",
    "\n",
    "def function():\n",
    "    another_value = []\n",
    "    values = (1,2,3,4,5,6,7,8,9,10)\n",
    "    for x in values:\n",
    "        if x%2 == 0:\n",
    "            another_value.append(x)\n",
    "        else:   \n",
    "            pass\n",
    "    final_value = tuple(another_value)\n",
    "    print(final_value)\n",
    "function()        "
   ]
  },
  {
   "cell_type": "code",
   "execution_count": 16,
   "id": "cc16ca88",
   "metadata": {},
   "outputs": [
    {
     "name": "stdout",
     "output_type": "stream",
     "text": [
      "yEs\n",
      "No\n"
     ]
    }
   ],
   "source": [
    "# 44. Write a program which accepts a string as input to print “Yes” if the string is “yes” or “YES” or “Yes”, \n",
    "#     otherwise print “No”.  Hints: Use if statement to judge condition.\n",
    "\n",
    "s = input()\n",
    "if (s == s.lower()) or (s == s.upper()) or s == \"Yes\":\n",
    "    print(\"Yes\")\n",
    "else:\n",
    "    print(\"No\")"
   ]
  },
  {
   "cell_type": "code",
   "execution_count": 2,
   "id": "e450d47c",
   "metadata": {},
   "outputs": [
    {
     "name": "stdout",
     "output_type": "stream",
     "text": [
      "I am parent class.\n",
      "I am sub class of American\n"
     ]
    }
   ],
   "source": [
    "# 51. Define a class named American and its subclass NewYorker.\n",
    "#       Hints:Use class Subclass(ParentClass) to define a subclass.\n",
    "\n",
    "class American:\n",
    "    print(\"I am parent class.\")\n",
    "    \n",
    "class NewYorker(American):\n",
    "    print(\"I am sub class of American\")\n",
    "obj = NewYorker()    "
   ]
  },
  {
   "cell_type": "code",
   "execution_count": 4,
   "id": "e05cd32b",
   "metadata": {},
   "outputs": [
    {
     "data": {
      "text/plain": [
       "314.0"
      ]
     },
     "execution_count": 4,
     "metadata": {},
     "output_type": "execute_result"
    }
   ],
   "source": [
    "# 52. Define a class named Circle which can be constructed by a radius. The Circle class has a method which can \n",
    "#     compute the area.  Hints: Use def methodName(self) to define a method.\n",
    "\n",
    "class Circle:\n",
    "    def __init__(self,radius):\n",
    "        self.radius = radius\n",
    "        \n",
    "    def methodOne(self):\n",
    "        area = 3.14*(self.radius**2)\n",
    "        return area\n",
    "A = Circle(10)\n",
    "A.methodOne()"
   ]
  },
  {
   "cell_type": "code",
   "execution_count": 5,
   "id": "668d74f8",
   "metadata": {},
   "outputs": [
    {
     "data": {
      "text/plain": [
       "60"
      ]
     },
     "execution_count": 5,
     "metadata": {},
     "output_type": "execute_result"
    }
   ],
   "source": [
    "# 53. Define a class named Rectangle which can be constructed by a length and width. The Rectangle class has a \n",
    "#     method which can compute the area. Hints:  Use def methodName(self) to define a method.\n",
    "\n",
    "class Rectangle:\n",
    "    def __init__(self,length,breadth):\n",
    "        self.length = length\n",
    "        self.breadth = breadth\n",
    "        \n",
    "    def methodOne(self):\n",
    "        area = self.length * self.breadth\n",
    "        return area\n",
    "obj = Rectangle(10,6)\n",
    "obj.methodOne()"
   ]
  },
  {
   "cell_type": "code",
   "execution_count": 6,
   "id": "62f4bc9f",
   "metadata": {},
   "outputs": [
    {
     "data": {
      "text/plain": [
       "16"
      ]
     },
     "execution_count": 6,
     "metadata": {},
     "output_type": "execute_result"
    }
   ],
   "source": [
    "# 54. Define a class named Shape and its subclass Square. The Square class has an init function which takes a \n",
    "#     length as argument. Both classes have a area function which can print the area of the shape where Shape’s\n",
    "#     area is 0 by default.  \n",
    "#    Hints: To override a method in super class, we can define a method with the same name in the super class.\n",
    "\n",
    "class Shape:\n",
    "    def area(self):\n",
    "        return 0\n",
    "        \n",
    "class Square(Shape):\n",
    "    def __init__(self,length):\n",
    "        self.length = length\n",
    "        \n",
    "    def area(self): \n",
    "        A = self.length**2\n",
    "        return A\n",
    "\n",
    "obj = Square(4)\n",
    "obj.area()"
   ]
  },
  {
   "cell_type": "code",
   "execution_count": 7,
   "id": "d16bc0bf",
   "metadata": {},
   "outputs": [
    {
     "ename": "RuntimeError",
     "evalue": "Some bad thing happened",
     "output_type": "error",
     "traceback": [
      "\u001b[0;31m---------------------------------------------------------------------------\u001b[0m",
      "\u001b[0;31mRuntimeError\u001b[0m                              Traceback (most recent call last)",
      "\u001b[0;32m<ipython-input-7-450f5a9da510>\u001b[0m in \u001b[0;36m<module>\u001b[0;34m\u001b[0m\n\u001b[1;32m      1\u001b[0m \u001b[0;31m# 55. Please raise a RuntimeError exception.   Hints: Use raise() to raise an exception.\u001b[0m\u001b[0;34m\u001b[0m\u001b[0;34m\u001b[0m\u001b[0;34m\u001b[0m\u001b[0m\n\u001b[1;32m      2\u001b[0m \u001b[0;34m\u001b[0m\u001b[0m\n\u001b[0;32m----> 3\u001b[0;31m \u001b[0;32mraise\u001b[0m \u001b[0mRuntimeError\u001b[0m\u001b[0;34m(\u001b[0m\u001b[0;34m'Some bad thing happened'\u001b[0m\u001b[0;34m)\u001b[0m\u001b[0;34m\u001b[0m\u001b[0;34m\u001b[0m\u001b[0m\n\u001b[0m",
      "\u001b[0;31mRuntimeError\u001b[0m: Some bad thing happened"
     ]
    }
   ],
   "source": [
    "# 55. Please raise a RuntimeError exception.   Hints: Use raise() to raise an exception.\n",
    "\n",
    "raise RuntimeError('Some bad thing happened')"
   ]
  },
  {
   "cell_type": "code",
   "execution_count": 8,
   "id": "fc7bc101",
   "metadata": {},
   "outputs": [
    {
     "name": "stdout",
     "output_type": "stream",
     "text": [
      "5\n",
      "500\n"
     ]
    }
   ],
   "source": [
    "# 65. Write a program to compute:\n",
    "#         f(n)=f(n-1)+100 when n>0  and f(0)=1\n",
    "#    with a given n input by console (n>0).  Eg: If the i/p is:5 Then, the o/p should be:500.  As i/p is supplied \n",
    "#    in question, it should be assumed as console i/p.  Hints: We can define recursive function in Python.\n",
    "\n",
    "def f(n):\n",
    "    if n == 0:\n",
    "        return 0\n",
    "    else:\n",
    "        return f(n-1)+100\n",
    "n = int(input())    \n",
    "print(f(n))"
   ]
  },
  {
   "cell_type": "code",
   "execution_count": 9,
   "id": "4cc516ec",
   "metadata": {},
   "outputs": [
    {
     "name": "stdout",
     "output_type": "stream",
     "text": [
      "7\n",
      "13\n"
     ]
    }
   ],
   "source": [
    "# 66. The Fibonacci Sequence is computed based on the following formula:\n",
    "#                     f(n)=0 if n=0\n",
    "#                     f(n)=1 if n=1\n",
    "#                     f(n)=f(n-1)+f(n-2) if n>1\n",
    "\n",
    "#     Please write a program to compute the value of f(n) with a given n input by console.\n",
    "#     Eg: If i/p = 7 Then, the o/p = 13 As i/p is supplied to question, it should be assumed as console i/p.\n",
    "#    Hints:  We can define recursive function in Python.\n",
    "\n",
    "def f(n):\n",
    "    if n == 0:\n",
    "        return 0\n",
    "    elif n == 1:\n",
    "        return 1\n",
    "    else:\n",
    "        return (f(n-1)+f(n-2))\n",
    "n = int(input())\n",
    "print(f(n))"
   ]
  },
  {
   "cell_type": "code",
   "execution_count": 10,
   "id": "a14df232",
   "metadata": {},
   "outputs": [
    {
     "name": "stdout",
     "output_type": "stream",
     "text": [
      "7\n",
      "0,1,1,2,3,5,8,13\n"
     ]
    }
   ],
   "source": [
    "# 67. same as 66. but, Please write a program using list comprehension to print the Fibonacci Sequence in \n",
    "#       comma separated form with a given n input by console.  Eg: If i/p = 7 Then, the o/p = 0,1,1,2,3,5,8,13\n",
    "\n",
    "def f(n):\n",
    "    if n == 0:\n",
    "        return 0\n",
    "    elif n == 1:\n",
    "        return 1\n",
    "    else:\n",
    "        return (f(n-1)+f(n-2))\n",
    "n = int(input())    \n",
    "ans = [str(f(x)) for x in range(0,n+1)]\n",
    "print(','.join(ans))"
   ]
  },
  {
   "cell_type": "code",
   "execution_count": 2,
   "id": "08b74d26",
   "metadata": {},
   "outputs": [
    {
     "name": "stdout",
     "output_type": "stream",
     "text": [
      "10\n",
      "0,2,4,6,8,10\n"
     ]
    }
   ],
   "source": [
    "without using generator\n",
    "# 68. Please write a program using generator to print the even numbers between 0 and n in comma separated form \n",
    "#     while n is input by console.  Eg:If i/p=10 Then, the o/p = 0,2,4,6,8,10\n",
    "\n",
    "def function():\n",
    "    a = []\n",
    "    n = int(input())  \n",
    "    for x in range(n+1):\n",
    "        if x%2 == 0:\n",
    "            a.append(str(x))\n",
    "    print(','.join(a))\n",
    "function()    "
   ]
  },
  {
   "cell_type": "code",
   "execution_count": 3,
   "id": "ab69dce2",
   "metadata": {},
   "outputs": [
    {
     "name": "stdout",
     "output_type": "stream",
     "text": [
      "100\n",
      "0,35,70\n"
     ]
    }
   ],
   "source": [
    "# 69. Please write a program using generator to print the numbers which can be divisible by 5 and 7 b/w \n",
    "#     0 and n in comma separated form while n is input by console.    Eg:If i/p = 100 Then, o/p = 0,35,70\n",
    "\n",
    "def function():\n",
    "    a = []\n",
    "    n = int(input())\n",
    "    for x in range(n+1):\n",
    "        if (x%5 == 0) and (x%7 == 0):\n",
    "            a.append(str(x))\n",
    "    print(','.join(a))        \n",
    "function()"
   ]
  },
  {
   "cell_type": "code",
   "execution_count": 12,
   "id": "3e25df24",
   "metadata": {},
   "outputs": [
    {
     "name": "stdout",
     "output_type": "stream",
     "text": [
      "I Play Hockey.\n",
      "I Play Football.\n",
      "I Love Hockey.\n",
      "I Love Football.\n",
      "You Play Hockey.\n",
      "You Play Football.\n",
      "You Love Hockey.\n",
      "You Love Football.\n"
     ]
    }
   ],
   "source": [
    "# 86. Please write a program to generate all sentences where subject is in [“I”, “You”] and \n",
    "#     verb is in [“Play”, “Love”] and the object is in [“Hockey”,“Football”].\n",
    "#   Hints:  Use list[index] notation to get a element from a list.\n",
    "\n",
    "subjects=[\"I\", \"You\"]\n",
    "verbs=[\"Play\", \"Love\"]\n",
    "objects=[\"Hockey\",\"Football\"]\n",
    "for i in range(len(subjects)):\n",
    "    for j in range(len(verbs)):\n",
    "        for k in range(len(objects)):\n",
    "            sentence = \"%s %s %s.\" % (subjects[i], verbs[j], objects[k])\n",
    "            print(sentence)"
   ]
  },
  {
   "cell_type": "code",
   "execution_count": 13,
   "id": "19d0e975",
   "metadata": {},
   "outputs": [
    {
     "name": "stdout",
     "output_type": "stream",
     "text": [
      "[5, 77, 45]\n"
     ]
    }
   ],
   "source": [
    "# 87. Please write a program to print the list after removing delete even numbers in [5,6,77,45,22,12,24].\n",
    "#     Hints: Use list comprehension to delete a bunch of element from a list.\n",
    "\n",
    "val = [5,6,77,45,22,12,24]\n",
    "a = [x for x in val if x%2 != 0]\n",
    "print(a)"
   ]
  },
  {
   "cell_type": "code",
   "execution_count": 14,
   "id": "4ccae268",
   "metadata": {},
   "outputs": [
    {
     "name": "stdout",
     "output_type": "stream",
     "text": [
      "[12, 24, 88]\n"
     ]
    }
   ],
   "source": [
    "# 88. By using list comprehension, please write a program to print the list after removing delete numbers which \n",
    "#     are divisible by 5 and 7 in [12,24,35,70,88,120,155].\n",
    "#   Hints:  Use list comprehension to delete a bunch of element from a list.\n",
    "\n",
    "val = [12,24,35,70,88,120,155]\n",
    "a = [x for x in val if (x%5 != 0 and x%7 != 0)]\n",
    "print(a)"
   ]
  },
  {
   "cell_type": "code",
   "execution_count": 15,
   "id": "e078ee88",
   "metadata": {},
   "outputs": [
    {
     "name": "stdout",
     "output_type": "stream",
     "text": [
      "[24, 70, 120]\n"
     ]
    }
   ],
   "source": [
    "# 89. By using list comprehension, please write a program to print the list after removing the 0th, 2nd, 4th,6th \n",
    "#     numbers in [12,24,35,70,88,120,155]. Hints:Use list comprehension to delete a bunch of element from a list.\n",
    "#    Use enumerate() to get (index, value) tuple.\n",
    "\n",
    "num = [12,24,35,70,88,120,155]\n",
    "a = [x for (i,x) in enumerate(num) if i%2 != 0]\n",
    "print(a)"
   ]
  },
  {
   "cell_type": "code",
   "execution_count": 17,
   "id": "378c6a1b",
   "metadata": {},
   "outputs": [
    {
     "name": "stdout",
     "output_type": "stream",
     "text": [
      "[[[0, 0, 0], [0, 0, 0], [0, 0, 0], [0, 0, 0], [0, 0, 0]], [[0, 0, 0], [0, 0, 0], [0, 0, 0], [0, 0, 0], [0, 0, 0]], [[0, 0, 0], [0, 0, 0], [0, 0, 0], [0, 0, 0], [0, 0, 0]], [[0, 0, 0], [0, 0, 0], [0, 0, 0], [0, 0, 0], [0, 0, 0]], [[0, 0, 0], [0, 0, 0], [0, 0, 0], [0, 0, 0], [0, 0, 0]], [[0, 0, 0], [0, 0, 0], [0, 0, 0], [0, 0, 0], [0, 0, 0]], [[0, 0, 0], [0, 0, 0], [0, 0, 0], [0, 0, 0], [0, 0, 0]], [[0, 0, 0], [0, 0, 0], [0, 0, 0], [0, 0, 0], [0, 0, 0]]]\n"
     ]
    }
   ],
   "source": [
    "# 90. By using list comprehension, please write a program generate a 358 3D array whose each element is 0.\n",
    "#    Hints: Use list comprehension to make an array.\n",
    "\n",
    "array = [[[0 for col in range(3)]for col in range(5)]for row in range(8)]\n",
    "print(array)"
   ]
  },
  {
   "cell_type": "code",
   "execution_count": 19,
   "id": "6f98aa0f",
   "metadata": {},
   "outputs": [
    {
     "name": "stdout",
     "output_type": "stream",
     "text": [
      "[24, 35, 70, 155]\n"
     ]
    }
   ],
   "source": [
    "# 91. By using list comprehension, please write a program to print the list after removing the 0th,4th,5th \n",
    "#     numbers in [12,24,35,70,88,120,155]. Hints:Use list comprehension to delete a bunch of element from a list.\n",
    "#     Use enumerate() to get (index, value) tuple.\n",
    "\n",
    "val = [12,24,35,70,88,120,155]\n",
    "a = [x for (i,x) in enumerate(val) if i not in (0,4,5)]\n",
    "print(a)"
   ]
  },
  {
   "cell_type": "code",
   "execution_count": 20,
   "id": "beb01976",
   "metadata": {},
   "outputs": [
    {
     "name": "stdout",
     "output_type": "stream",
     "text": [
      "[12, 35, 88, 120, 155]\n"
     ]
    }
   ],
   "source": [
    "# 92. By using list comprehension, please write a program to print the list after removing the value 24 in \n",
    "#     [12,24,35,24,88,120,155].  Hints: Use list’s remove method to delete a value.\n",
    "\n",
    "value = [12,24,35,24,88,120,155]\n",
    "a = [x for x in value if x != 24]\n",
    "print(a)"
   ]
  },
  {
   "cell_type": "code",
   "execution_count": 22,
   "id": "38d4c539",
   "metadata": {},
   "outputs": [
    {
     "name": "stdout",
     "output_type": "stream",
     "text": [
      "[35]\n"
     ]
    }
   ],
   "source": [
    "# 93. With two given lists [1,3,6,78,35,55] and [12,24,35,24,88,120,155], write a program to make a list whose\n",
    "#     elements are intersection of the above given lists.Hints:Use set(), “&=” to do set intersection operation.\n",
    "\n",
    "a = [1,3,6,78,35,55]\n",
    "b = [12,24,35,24,88,120,155]\n",
    "a1 = set(a)\n",
    "b1 = set(b)\n",
    "c1 = a1.intersection(b1)\n",
    "print(list(c1))"
   ]
  },
  {
   "cell_type": "code",
   "execution_count": 23,
   "id": "307d45d7",
   "metadata": {},
   "outputs": [
    {
     "name": "stdout",
     "output_type": "stream",
     "text": [
      "[12, 24, 35, 88, 120, 155]\n"
     ]
    }
   ],
   "source": [
    "# 94. With a given list [12,24,35,24,88,120,155,88,120,155], write a program to print this list after removing \n",
    "#     all duplicate values with original order reserved.\n",
    "#    Hints: Use set() to store a number of values without duplicate.\n",
    "\n",
    "values = [12,24,35,24,88,120,155,88,120,155]\n",
    "new = []\n",
    "save = set()\n",
    "for x in values:\n",
    "    if x not in save:\n",
    "        save.add(x)\n",
    "        new.append(x)\n",
    "print(new)"
   ]
  },
  {
   "cell_type": "code",
   "execution_count": 25,
   "id": "b18c0c64",
   "metadata": {},
   "outputs": [
    {
     "name": "stdout",
     "output_type": "stream",
     "text": [
      "Male\n",
      "Female\n"
     ]
    }
   ],
   "source": [
    "# 95. Define a class Person and its two child classes: Male and Female. All classes have a method “getGender”\n",
    "#     which can print “Male” for Male class and “Female” for Female class.\n",
    "#    Hints: Use Subclass(Parentclass) to define a child class.\n",
    "\n",
    "class Person:\n",
    "    def getGender(self):\n",
    "        return \"Unknown\"\n",
    "    \n",
    "class Male(Person):\n",
    "    def getGender(self):\n",
    "        return \"Male\"\n",
    "    \n",
    "class Female(Person): \n",
    "    def getGender(self):\n",
    "        return \"Female\"\n",
    "    \n",
    "obj1 = Male()\n",
    "print(obj1.getGender())\n",
    "obj2 = Female()\n",
    "print(obj2.getGender())"
   ]
  },
  {
   "cell_type": "code",
   "execution_count": 1,
   "id": "f7bd7d4f",
   "metadata": {},
   "outputs": [
    {
     "name": "stdout",
     "output_type": "stream",
     "text": [
      "There are 23 Chickens\n",
      "There are 12 Rabits\n"
     ]
    }
   ],
   "source": [
    "# 100. Write a program to solve a classic ancient Chinese puzzle:\n",
    "#      We count 35 heads and 94 legs among the chickens and rabbits in a farm. How many rabbits and how many \n",
    "#      chickens do we have?   Hint: Use for loop to iterate all possible solutions. \n",
    "\n",
    "for r in range(36):\n",
    "    c1 = 35 - r\n",
    "    c2 = 47 - (2*r)\n",
    "    if c1 == c2 :\n",
    "        rabbit = 35 - c1\n",
    "        print(\"There are %d Chickens\"%c1)\n",
    "        print(\"There are %d Rabits\"%rabbit)\n",
    "    else:\n",
    "        pass"
   ]
  }
 ],
 "metadata": {
  "kernelspec": {
   "display_name": "Python 3",
   "language": "python",
   "name": "python3"
  },
  "language_info": {
   "codemirror_mode": {
    "name": "ipython",
    "version": 3
   },
   "file_extension": ".py",
   "mimetype": "text/x-python",
   "name": "python",
   "nbconvert_exporter": "python",
   "pygments_lexer": "ipython3",
   "version": "3.8.8"
  }
 },
 "nbformat": 4,
 "nbformat_minor": 5
}
