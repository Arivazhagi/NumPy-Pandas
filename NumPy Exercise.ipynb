{
 "cells": [
  {
   "cell_type": "code",
   "execution_count": null,
   "id": "a5fbcb53",
   "metadata": {},
   "outputs": [],
   "source": [
    "# 100 Numpy Exercises "
   ]
  },
  {
   "cell_type": "code",
   "execution_count": 1,
   "id": "9801db00",
   "metadata": {},
   "outputs": [],
   "source": [
    "# 1. Import the numpy package under the name np (★☆☆)\n",
    "import numpy as np"
   ]
  },
  {
   "cell_type": "code",
   "execution_count": 2,
   "id": "b5ce5ece",
   "metadata": {},
   "outputs": [
    {
     "name": "stdout",
     "output_type": "stream",
     "text": [
      "<function show at 0x7f57f4543670>\n",
      "1.20.1\n"
     ]
    }
   ],
   "source": [
    "# 2. Print the numpy version and the configuration (★☆☆)\n",
    "\n",
    "print(np.show_config)\n",
    "print(np.__version__)       # double underscore"
   ]
  },
  {
   "cell_type": "code",
   "execution_count": 3,
   "id": "1ab1014e",
   "metadata": {},
   "outputs": [
    {
     "name": "stdout",
     "output_type": "stream",
     "text": [
      "[0. 0. 0. 0. 0. 0. 0. 0. 0. 0.]\n"
     ]
    }
   ],
   "source": [
    "# 3. Create a null vector of size 10 (★☆☆)\n",
    "\n",
    "a = np.zeros(10)\n",
    "print(a)"
   ]
  },
  {
   "cell_type": "code",
   "execution_count": 4,
   "id": "db154d20",
   "metadata": {},
   "outputs": [
    {
     "name": "stdout",
     "output_type": "stream",
     "text": [
      "[0 1 2 3 4 5 6 7 8 9]\n",
      "80\n"
     ]
    }
   ],
   "source": [
    "# 4. How to find the memory size of any array (★☆☆)\n",
    "\n",
    "a = np.arange(10)\n",
    "print(a)\n",
    "print(a.size * a.itemsize)"
   ]
  },
  {
   "cell_type": "code",
   "execution_count": 5,
   "id": "8c7fe17b",
   "metadata": {},
   "outputs": [],
   "source": [
    "# 5. How to get the documentation of the numpy add function from the command line? (★☆☆)"
   ]
  },
  {
   "cell_type": "code",
   "execution_count": 6,
   "id": "73b93c5b",
   "metadata": {},
   "outputs": [
    {
     "name": "stdout",
     "output_type": "stream",
     "text": [
      "[0. 0. 0. 0. 1. 0. 0. 0. 0. 0.]\n"
     ]
    }
   ],
   "source": [
    "# 6. Create a null vector of size 10 but the fifth value which is 1 (★☆☆)\n",
    "\n",
    "a = np.zeros(10)\n",
    "a[4] = 1\n",
    "print(a)"
   ]
  },
  {
   "cell_type": "code",
   "execution_count": 7,
   "id": "ca7b000c",
   "metadata": {},
   "outputs": [
    {
     "name": "stdout",
     "output_type": "stream",
     "text": [
      "[10 11 12 13 14 15 16 17 18 19 20 21 22 23 24 25 26 27 28 29 30 31 32 33\n",
      " 34 35 36 37 38 39 40 41 42 43 44 45 46 47 48 49]\n"
     ]
    }
   ],
   "source": [
    "# 7. Create a vector with values ranging from 10 to 49 (★☆☆)\n",
    "\n",
    "a = np.arange(10,50)\n",
    "print(a)"
   ]
  },
  {
   "cell_type": "code",
   "execution_count": 8,
   "id": "137f8764",
   "metadata": {},
   "outputs": [
    {
     "name": "stdout",
     "output_type": "stream",
     "text": [
      "[9 8 7 6 5 4 3 2 1 0]\n"
     ]
    }
   ],
   "source": [
    "# 8. Reverse a vector (first element becomes last) (★☆☆)\n",
    "\n",
    "a1 = np.arange(10)\n",
    "a1 = a1[::-1]\n",
    "print(a1)"
   ]
  },
  {
   "cell_type": "code",
   "execution_count": 9,
   "id": "a74ad24e",
   "metadata": {},
   "outputs": [
    {
     "name": "stdout",
     "output_type": "stream",
     "text": [
      "[[0 1 2]\n",
      " [3 4 5]\n",
      " [6 7 8]]\n"
     ]
    }
   ],
   "source": [
    "# 9. Create a 3x3 matrix with values ranging from 0 to 8 (★☆☆)\n",
    "\n",
    "a2 = np.arange(9).reshape(3,3)\n",
    "print(a2)"
   ]
  },
  {
   "cell_type": "code",
   "execution_count": 10,
   "id": "d91d7c12",
   "metadata": {},
   "outputs": [
    {
     "name": "stdout",
     "output_type": "stream",
     "text": [
      "(array([0, 1, 4]),)\n"
     ]
    }
   ],
   "source": [
    "# 10. Find indices of non-zero elements from [1,2,0,0,4,0] (★☆☆)\n",
    "\n",
    "a = np.nonzero([1,2,0,0,4,0])    # it gives the index values of non-zero in o/p\n",
    "print(a)"
   ]
  },
  {
   "cell_type": "code",
   "execution_count": 11,
   "id": "8060bab1",
   "metadata": {},
   "outputs": [
    {
     "name": "stdout",
     "output_type": "stream",
     "text": [
      "[[1. 0. 0.]\n",
      " [0. 1. 0.]\n",
      " [0. 0. 1.]]\n"
     ]
    }
   ],
   "source": [
    "# 11. Create a 3x3 identity matrix (★☆☆)\n",
    "\n",
    "a2 = np.eye(3)\n",
    "print(a2)"
   ]
  },
  {
   "cell_type": "code",
   "execution_count": 12,
   "id": "9a1d0c62",
   "metadata": {},
   "outputs": [
    {
     "name": "stdout",
     "output_type": "stream",
     "text": [
      "[[[0.24603521 0.44818209 0.13969117]\n",
      "  [0.17563044 0.94172274 0.52050885]\n",
      "  [0.90000436 0.47042537 0.18788946]]\n",
      "\n",
      " [[0.2792719  0.69303757 0.53553344]\n",
      "  [0.83974851 0.28163835 0.77416167]\n",
      "  [0.68586391 0.70647867 0.19501407]]\n",
      "\n",
      " [[0.90469753 0.60727514 0.24951958]\n",
      "  [0.73199425 0.79410609 0.81638166]\n",
      "  [0.29027808 0.56530508 0.80800311]]]\n"
     ]
    }
   ],
   "source": [
    "# 12. Create a 3x3x3 array with random values (★☆☆)\n",
    "\n",
    "b = np.random.random((3,3,3))\n",
    "print(b)"
   ]
  },
  {
   "cell_type": "code",
   "execution_count": 13,
   "id": "dd1e46c0",
   "metadata": {},
   "outputs": [
    {
     "name": "stdout",
     "output_type": "stream",
     "text": [
      "Maximum value is  0.9845526230669672\n",
      "Minimum value is  0.007903799882077234\n"
     ]
    }
   ],
   "source": [
    "# 13. Create a 10x10 array with random values and find the minimum and maximum values (★☆☆)\n",
    "\n",
    "c = np.random.random((10,10))\n",
    "#print(c)\n",
    "a = c.max()\n",
    "b = c.min()\n",
    "print(\"Maximum value is \",a)\n",
    "print(\"Minimum value is \",b)"
   ]
  },
  {
   "cell_type": "code",
   "execution_count": 14,
   "id": "c9fefb26",
   "metadata": {},
   "outputs": [
    {
     "name": "stdout",
     "output_type": "stream",
     "text": [
      "0.5239173805502628\n",
      "0.5239173805502628\n"
     ]
    }
   ],
   "source": [
    "# 14. Create a random vector of size 30 and find the mean value (★☆☆)\n",
    "\n",
    "a1 = np.random.random(30)\n",
    "#print(a1)\n",
    "a2 = np.mean(a1)\n",
    "a3 = a1.mean()\n",
    "print(a2)\n",
    "print(a3)"
   ]
  },
  {
   "cell_type": "code",
   "execution_count": 15,
   "id": "bafb5b21",
   "metadata": {},
   "outputs": [
    {
     "name": "stdout",
     "output_type": "stream",
     "text": [
      "[[1. 1. 1. 1. 1. 1. 1. 1. 1. 1.]\n",
      " [1. 0. 0. 0. 0. 0. 0. 0. 0. 1.]\n",
      " [1. 0. 0. 0. 0. 0. 0. 0. 0. 1.]\n",
      " [1. 0. 0. 0. 0. 0. 0. 0. 0. 1.]\n",
      " [1. 0. 0. 0. 0. 0. 0. 0. 0. 1.]\n",
      " [1. 0. 0. 0. 0. 0. 0. 0. 0. 1.]\n",
      " [1. 0. 0. 0. 0. 0. 0. 0. 0. 1.]\n",
      " [1. 0. 0. 0. 0. 0. 0. 0. 0. 1.]\n",
      " [1. 0. 0. 0. 0. 0. 0. 0. 0. 1.]\n",
      " [1. 1. 1. 1. 1. 1. 1. 1. 1. 1.]]\n"
     ]
    }
   ],
   "source": [
    "# 15. Create a 2d array with 1 on the border and 0 inside (★☆☆)\n",
    "\n",
    "a = np.ones((10,10))\n",
    "a[1:-1 , 1:-1] = 0\n",
    "print(a)"
   ]
  },
  {
   "cell_type": "code",
   "execution_count": 16,
   "id": "3127bdb1",
   "metadata": {},
   "outputs": [
    {
     "name": "stdout",
     "output_type": "stream",
     "text": [
      "[[0. 0. 0. 0. 0. 0. 0. 0. 0. 0.]\n",
      " [0. 1. 1. 1. 1. 1. 1. 1. 1. 0.]\n",
      " [0. 1. 1. 1. 1. 1. 1. 1. 1. 0.]\n",
      " [0. 1. 1. 1. 1. 1. 1. 1. 1. 0.]\n",
      " [0. 1. 1. 1. 1. 1. 1. 1. 1. 0.]\n",
      " [0. 1. 1. 1. 1. 1. 1. 1. 1. 0.]\n",
      " [0. 1. 1. 1. 1. 1. 1. 1. 1. 0.]\n",
      " [0. 1. 1. 1. 1. 1. 1. 1. 1. 0.]\n",
      " [0. 1. 1. 1. 1. 1. 1. 1. 1. 0.]\n",
      " [0. 0. 0. 0. 0. 0. 0. 0. 0. 0.]]\n"
     ]
    }
   ],
   "source": [
    "# 16. How to add a border (filled with 0's) around an existing array? (★☆☆)\n",
    "\n",
    "a = np.ones((10,10))\n",
    "a[[0,-1] , :] = 0\n",
    "a[: , [0,-1]] = 0\n",
    "print(a)"
   ]
  },
  {
   "cell_type": "code",
   "execution_count": 20,
   "id": "8f7a9615",
   "metadata": {},
   "outputs": [],
   "source": [
    "# 17. What is the result of the following expression? (★☆☆)\n",
    "       0 * np.nan\n",
    "       np.nan == np.nan\n",
    "       np.inf > np.nan\n",
    "       np.nan - np.nan\n",
    "       np.nan in set([np.nan])\n",
    "       0.3 == 3 * 0.1"
   ]
  },
  {
   "cell_type": "code",
   "execution_count": 18,
   "id": "2dd1e18c",
   "metadata": {},
   "outputs": [
    {
     "name": "stdout",
     "output_type": "stream",
     "text": [
      "nan\n",
      "False\n",
      "False\n",
      "nan\n",
      "True\n",
      "False\n"
     ]
    }
   ],
   "source": [
    "print(0 * np.nan)\n",
    "print(np.nan == np.nan)\n",
    "print(np.inf > np.nan)\n",
    "print(np.nan - np.nan)\n",
    "print(np.nan in set([np.nan]))\n",
    "print(0.3 == 3 * 0.1)"
   ]
  },
  {
   "cell_type": "code",
   "execution_count": 19,
   "id": "abe97826",
   "metadata": {},
   "outputs": [
    {
     "name": "stdout",
     "output_type": "stream",
     "text": [
      "[[0 0 0 0 0]\n",
      " [1 0 0 0 0]\n",
      " [0 2 0 0 0]\n",
      " [0 0 3 0 0]\n",
      " [0 0 0 4 0]]\n"
     ]
    }
   ],
   "source": [
    "# 18. Create a 5x5 matrix with values 1,2,3,4 just below the diagonal (★☆☆)\n",
    "\n",
    "a1 = np.diag(1+np.arange(4),-1)\n",
    "print(a1)"
   ]
  },
  {
   "cell_type": "code",
   "execution_count": 23,
   "id": "d0ff523f",
   "metadata": {},
   "outputs": [
    {
     "name": "stdout",
     "output_type": "stream",
     "text": [
      "[[0 1 0 1 0 1 0 1]\n",
      " [1 0 1 0 1 0 1 0]\n",
      " [0 1 0 1 0 1 0 1]\n",
      " [1 0 1 0 1 0 1 0]\n",
      " [0 1 0 1 0 1 0 1]\n",
      " [1 0 1 0 1 0 1 0]\n",
      " [0 1 0 1 0 1 0 1]\n",
      " [1 0 1 0 1 0 1 0]]\n"
     ]
    }
   ],
   "source": [
    "# 19. Create a 8x8 matrix and fill it with a checkerboard pattern\n",
    "\n",
    "a = np.zeros((8,8),dtype=int)\n",
    "a[1::2,::2] = 1                             # 1::2 - 1st row 0, 2nd row 1   , ::2 - 1st col 1, 2nd col 0\n",
    "a[::2,1::2] = 1                             # reverse of the above\n",
    "print(a)"
   ]
  },
  {
   "cell_type": "code",
   "execution_count": 34,
   "id": "8a875659",
   "metadata": {},
   "outputs": [
    {
     "name": "stdout",
     "output_type": "stream",
     "text": [
      "(1, 5, 3)\n"
     ]
    }
   ],
   "source": [
    "# 20. Consider a (6,7,8) shape array, what is the index (x,y,z) of the 100th element?\n",
    "\n",
    "a = np.unravel_index(99,(6,7,8))\n",
    "print(a)"
   ]
  },
  {
   "cell_type": "code",
   "execution_count": 35,
   "id": "ceeacbdf",
   "metadata": {},
   "outputs": [
    {
     "name": "stdout",
     "output_type": "stream",
     "text": [
      "[[0 1 0 1 0 1 0 1]\n",
      " [1 0 1 0 1 0 1 0]\n",
      " [0 1 0 1 0 1 0 1]\n",
      " [1 0 1 0 1 0 1 0]\n",
      " [0 1 0 1 0 1 0 1]\n",
      " [1 0 1 0 1 0 1 0]\n",
      " [0 1 0 1 0 1 0 1]\n",
      " [1 0 1 0 1 0 1 0]]\n"
     ]
    }
   ],
   "source": [
    "# 21. Create a checkerboard 8x8 matrix using the tile function \n",
    "\n",
    "a = np.tile(np.array([[0,1],[1,0]]),(4,4))\n",
    "print(a)"
   ]
  },
  {
   "cell_type": "code",
   "execution_count": 40,
   "id": "30166e51",
   "metadata": {},
   "outputs": [
    {
     "name": "stdout",
     "output_type": "stream",
     "text": [
      "[[ 1.21152891 -1.04026239  0.33154018  1.45007994 -0.8978248 ]\n",
      " [-1.16396463  1.25074905  0.63388868  0.06710019 -0.57664433]\n",
      " [ 0.55484792 -0.63494525  0.94512157 -0.8683847   1.63515483]\n",
      " [-0.86253297  1.42764669 -1.10592446  0.67453763 -0.01626046]\n",
      " [ 0.34867722  0.31861586 -2.09872099 -0.34567146 -1.23835221]]\n"
     ]
    }
   ],
   "source": [
    "# 22. Normalize a 5x5 random matrix \n",
    "\n",
    "a = np.random.random((5,5))\n",
    "b = (a - np.mean(a))/(np.std(a))\n",
    "print(b)"
   ]
  },
  {
   "cell_type": "code",
   "execution_count": 43,
   "id": "afb0c2a2",
   "metadata": {},
   "outputs": [
    {
     "name": "stdout",
     "output_type": "stream",
     "text": [
      "[('r', 'u1'), ('g', 'u1'), ('b', 'u1'), ('a', 'u1')]\n"
     ]
    },
    {
     "name": "stderr",
     "output_type": "stream",
     "text": [
      "<ipython-input-43-7b73df228a0d>:3: FutureWarning: Passing (type, 1) or '1type' as a synonym of type is deprecated; in a future version of numpy, it will be understood as (type, (1,)) / '(1,)type'.\n",
      "  color = np.dtype([(\"r\", np.ubyte, 1),(\"g\", np.ubyte, 1),(\"b\", np.ubyte, 1),(\"a\", np.ubyte, 1)])\n"
     ]
    }
   ],
   "source": [
    "# 23. Create a custom dtype that describes a color as four unsigned bytes (RGBA)\n",
    "\n",
    "color = np.dtype([(\"r\", np.ubyte, 1),(\"g\", np.ubyte, 1),(\"b\", np.ubyte, 1),(\"a\", np.ubyte, 1)])\n",
    "print(color)"
   ]
  },
  {
   "cell_type": "code",
   "execution_count": 44,
   "id": "a9267d93",
   "metadata": {},
   "outputs": [
    {
     "name": "stdout",
     "output_type": "stream",
     "text": [
      "[[3. 3.]\n",
      " [3. 3.]\n",
      " [3. 3.]\n",
      " [3. 3.]\n",
      " [3. 3.]]\n"
     ]
    }
   ],
   "source": [
    "# 24. Multiply a 5x3 matrix by a 3x2 matrix (real matrix product)\n",
    "\n",
    "a = np.dot(np.ones((5,3)) , np.ones((3,2)))\n",
    "print(a)"
   ]
  },
  {
   "cell_type": "code",
   "execution_count": 47,
   "id": "848346fc",
   "metadata": {},
   "outputs": [
    {
     "name": "stdout",
     "output_type": "stream",
     "text": [
      "[ 0  1  2  3 -4 -5 -6 -7  8  9 10]\n"
     ]
    }
   ],
   "source": [
    "# 25. Given a 1D array, negate all elements which are between 3 and 8, in place. \n",
    "\n",
    "a = np.arange(11)\n",
    "a[(a>3) & (a<8)] *= -1\n",
    "print(a)"
   ]
  },
  {
   "cell_type": "code",
   "execution_count": 48,
   "id": "cb657d14",
   "metadata": {},
   "outputs": [
    {
     "name": "stdout",
     "output_type": "stream",
     "text": [
      "9\n"
     ]
    }
   ],
   "source": [
    "# 26. What is the output of the following script?\n",
    "print(sum(range(5),-1))"
   ]
  },
  {
   "cell_type": "code",
   "execution_count": 2,
   "id": "a31633a5",
   "metadata": {},
   "outputs": [
    {
     "name": "stdout",
     "output_type": "stream",
     "text": [
      "nan\n",
      "0\n",
      "[-9.22337204e+18]\n"
     ]
    },
    {
     "name": "stderr",
     "output_type": "stream",
     "text": [
      "<ipython-input-2-13fafc9287a7>:6: RuntimeWarning: invalid value encountered in true_divide\n",
      "  print(np.array(0) / np.array(0))\n",
      "<ipython-input-2-13fafc9287a7>:7: RuntimeWarning: divide by zero encountered in floor_divide\n",
      "  print(np.array(0) // np.array(0))\n"
     ]
    }
   ],
   "source": [
    "# 28. What are the result of the following expressions?\n",
    "#        np.array(0) / np.array(0)\n",
    "#        np.array(0) // np.array(0)\n",
    "#        np.array([np.nan]).astype(int).astype(float)\n",
    "\n",
    "print(np.array(0) / np.array(0))\n",
    "print(np.array(0) // np.array(0))\n",
    "print(np.array([np.nan]).astype(int).astype(float))"
   ]
  },
  {
   "cell_type": "code",
   "execution_count": 52,
   "id": "9c0938dd",
   "metadata": {},
   "outputs": [
    {
     "name": "stdout",
     "output_type": "stream",
     "text": [
      "[ 8 10 12 14]\n"
     ]
    }
   ],
   "source": [
    "# 30. How to find common values between two arrays?\n",
    "\n",
    "a = np.arange(8,20,2)\n",
    "b = np.arange(5,15)\n",
    "c = np.intersect1d(a,b)\n",
    "print(c)"
   ]
  },
  {
   "cell_type": "code",
   "execution_count": 54,
   "id": "62a5b853",
   "metadata": {},
   "outputs": [
    {
     "data": {
      "text/plain": [
       "array([nan, inf, inf])"
      ]
     },
     "execution_count": 54,
     "metadata": {},
     "output_type": "execute_result"
    }
   ],
   "source": [
    "# 31. How to ignore all numpy warnings (not recommended)?\n",
    "\n",
    "defaults = np.seterr(all=\"ignore\")\n",
    "np.arange(3) / 0"
   ]
  },
  {
   "cell_type": "code",
   "execution_count": 56,
   "id": "db6f250c",
   "metadata": {},
   "outputs": [
    {
     "data": {
      "text/plain": [
       "False"
      ]
     },
     "execution_count": 56,
     "metadata": {},
     "output_type": "execute_result"
    }
   ],
   "source": [
    "# 32. Is the following expressions true? \n",
    "\n",
    "np.sqrt(-1) == np.emath.sqrt(-1)"
   ]
  },
  {
   "cell_type": "code",
   "execution_count": 57,
   "id": "56b8dd79",
   "metadata": {},
   "outputs": [],
   "source": [
    "# 33. How to get the dates of yesterday, today and tomorrow? \n",
    "\n",
    "yesterday = np.datetime64('today') - np.timedelta64(1)\n",
    "today     = np.datetime64('today')\n",
    "tomorrow  = np.datetime64('today') + np.timedelta64(1)"
   ]
  },
  {
   "cell_type": "code",
   "execution_count": 58,
   "id": "aabebda5",
   "metadata": {},
   "outputs": [
    {
     "name": "stdout",
     "output_type": "stream",
     "text": [
      "['2016-07-01' '2016-07-02' '2016-07-03' '2016-07-04' '2016-07-05'\n",
      " '2016-07-06' '2016-07-07' '2016-07-08' '2016-07-09' '2016-07-10'\n",
      " '2016-07-11' '2016-07-12' '2016-07-13' '2016-07-14' '2016-07-15'\n",
      " '2016-07-16' '2016-07-17' '2016-07-18' '2016-07-19' '2016-07-20'\n",
      " '2016-07-21' '2016-07-22' '2016-07-23' '2016-07-24' '2016-07-25'\n",
      " '2016-07-26' '2016-07-27' '2016-07-28' '2016-07-29' '2016-07-30'\n",
      " '2016-07-31']\n"
     ]
    }
   ],
   "source": [
    "# 34. How to get all the dates corresponding to the month of July 2016?\n",
    "\n",
    "Z = np.arange('2016-07', '2016-08', dtype='datetime64[D]')\n",
    "print(Z)"
   ]
  },
  {
   "cell_type": "code",
   "execution_count": 70,
   "id": "bb7b354e",
   "metadata": {},
   "outputs": [
    {
     "name": "stdout",
     "output_type": "stream",
     "text": [
      "[4.51860838 4.57868804 3.27435184 7.92182085 3.72442332 5.1583793\n",
      " 4.19949602 2.21388836 5.9471919  0.07693694]\n",
      "[4. 4. 3. 7. 3. 5. 4. 2. 5. 0.]\n",
      "[4. 4. 3. 7. 3. 5. 4. 2. 5. 0.]\n",
      "[4. 4. 3. 7. 3. 5. 4. 2. 5. 0.]\n",
      "[4 4 3 7 3 5 4 2 5 0]\n",
      "[4. 4. 3. 7. 3. 5. 4. 2. 5. 0.]\n"
     ]
    }
   ],
   "source": [
    "# 36. Extract the integer part of a random array of positive numbers using 4 different methods \n",
    "#          hint: %, np.floor, astype, np.trunc\n",
    "\n",
    "Z = np.random.uniform(0,10,10)\n",
    "\n",
    "print(Z)\n",
    "print(Z - Z%1)                   # (4.51860838 - 0.51860838 = 4)\n",
    "print(Z // 1)\n",
    "print(np.floor(Z))\n",
    "print(Z.astype(int))\n",
    "print(np.trunc(Z))\n"
   ]
  },
  {
   "cell_type": "code",
   "execution_count": 79,
   "id": "e7286c21",
   "metadata": {},
   "outputs": [
    {
     "name": "stdout",
     "output_type": "stream",
     "text": [
      "[[0. 1. 2. 3. 4.]\n",
      " [0. 1. 2. 3. 4.]\n",
      " [0. 1. 2. 3. 4.]\n",
      " [0. 1. 2. 3. 4.]\n",
      " [0. 1. 2. 3. 4.]]\n"
     ]
    }
   ],
   "source": [
    "# 37. Create a 5x5 matrix with row values ranging from 0 to 4 \n",
    "\n",
    "a = np.zeros((5,5))\n",
    "a += np.arange(5)\n",
    "print(a)"
   ]
  },
  {
   "cell_type": "code",
   "execution_count": 6,
   "id": "2f609fdd",
   "metadata": {},
   "outputs": [
    {
     "name": "stdout",
     "output_type": "stream",
     "text": [
      "[0. 1. 2. 3. 4. 5. 6. 7. 8. 9.]\n"
     ]
    }
   ],
   "source": [
    "# 38. Consider a generator function that generates 10 integers and use it to build an array\n",
    "\n",
    "def generate():\n",
    "    for x in range(10):\n",
    "        yield x\n",
    "a = np.fromiter(generate(), dtype = 'float')        \n",
    "print(a)"
   ]
  },
  {
   "cell_type": "code",
   "execution_count": 11,
   "id": "d2c40860",
   "metadata": {},
   "outputs": [
    {
     "name": "stdout",
     "output_type": "stream",
     "text": [
      "[0.09090909 0.18181818 0.27272727 0.36363636 0.45454545 0.54545455\n",
      " 0.63636364 0.72727273 0.81818182 0.90909091]\n"
     ]
    }
   ],
   "source": [
    "# 39. Create a vector of size 10 with values ranging from 0 to 1, both excluded \n",
    "\n",
    "a = np.linspace(0,1,11, endpoint = False)[1:]\n",
    "print(a)"
   ]
  },
  {
   "cell_type": "code",
   "execution_count": 12,
   "id": "af1695ff",
   "metadata": {},
   "outputs": [
    {
     "name": "stdout",
     "output_type": "stream",
     "text": [
      "[0.01254917 0.04968601 0.0921237  0.1747594  0.35010386 0.4761085\n",
      " 0.71847309 0.76476973 0.91820135 0.98962411]\n"
     ]
    }
   ],
   "source": [
    "# 40. Create a random vector of size 10 and sort it\n",
    "\n",
    "a = np.random.random(10)\n",
    "a.sort()\n",
    "print(a)"
   ]
  },
  {
   "cell_type": "code",
   "execution_count": 13,
   "id": "d6ebc266",
   "metadata": {},
   "outputs": [
    {
     "name": "stdout",
     "output_type": "stream",
     "text": [
      "45\n"
     ]
    }
   ],
   "source": [
    "# 41. How to sum a small array faster than np.sum?\n",
    "\n",
    "a = np.arange(10)\n",
    "b = np.add.reduce(a)\n",
    "print(b)"
   ]
  },
  {
   "cell_type": "code",
   "execution_count": 20,
   "id": "67704a5d",
   "metadata": {},
   "outputs": [
    {
     "name": "stdout",
     "output_type": "stream",
     "text": [
      "False\n"
     ]
    }
   ],
   "source": [
    "# 42. Consider two random array A and B, check if they are equal \n",
    "\n",
    "a = np.random.randint(0,2,5)\n",
    "b = np.random.randint(0,2,5)\n",
    "\n",
    "equal = np.array_equal(a,b)\n",
    "print(equal)"
   ]
  },
  {
   "cell_type": "code",
   "execution_count": 24,
   "id": "f12e9b41",
   "metadata": {},
   "outputs": [
    {
     "ename": "ValueError",
     "evalue": "assignment destination is read-only",
     "output_type": "error",
     "traceback": [
      "\u001b[0;31m---------------------------------------------------------------------------\u001b[0m",
      "\u001b[0;31mValueError\u001b[0m                                Traceback (most recent call last)",
      "\u001b[0;32m<ipython-input-24-fbae23683fc8>\u001b[0m in \u001b[0;36m<module>\u001b[0;34m\u001b[0m\n\u001b[1;32m      3\u001b[0m \u001b[0ma\u001b[0m \u001b[0;34m=\u001b[0m \u001b[0mnp\u001b[0m\u001b[0;34m.\u001b[0m\u001b[0marange\u001b[0m\u001b[0;34m(\u001b[0m\u001b[0;36m10\u001b[0m\u001b[0;34m)\u001b[0m\u001b[0;34m\u001b[0m\u001b[0;34m\u001b[0m\u001b[0m\n\u001b[1;32m      4\u001b[0m \u001b[0ma\u001b[0m\u001b[0;34m.\u001b[0m\u001b[0mflags\u001b[0m\u001b[0;34m.\u001b[0m\u001b[0mwriteable\u001b[0m \u001b[0;34m=\u001b[0m \u001b[0;32mFalse\u001b[0m\u001b[0;34m\u001b[0m\u001b[0;34m\u001b[0m\u001b[0m\n\u001b[0;32m----> 5\u001b[0;31m \u001b[0ma\u001b[0m\u001b[0;34m[\u001b[0m\u001b[0;36m0\u001b[0m\u001b[0;34m]\u001b[0m \u001b[0;34m=\u001b[0m \u001b[0;36m22\u001b[0m\u001b[0;34m\u001b[0m\u001b[0;34m\u001b[0m\u001b[0m\n\u001b[0m\u001b[1;32m      6\u001b[0m \u001b[0mprint\u001b[0m\u001b[0;34m(\u001b[0m\u001b[0ma\u001b[0m\u001b[0;34m)\u001b[0m\u001b[0;34m\u001b[0m\u001b[0;34m\u001b[0m\u001b[0m\n",
      "\u001b[0;31mValueError\u001b[0m: assignment destination is read-only"
     ]
    }
   ],
   "source": [
    "# 43. Make an array immutable (read-only)\n",
    "\n",
    "a = np.arange(10)\n",
    "a.flags.writeable = False\n",
    "a[0] = 22\n",
    "print(a)"
   ]
  },
  {
   "cell_type": "code",
   "execution_count": 31,
   "id": "820b5294",
   "metadata": {},
   "outputs": [
    {
     "name": "stdout",
     "output_type": "stream",
     "text": [
      "[0.95593387 0.88054011 0.61214421 0.52980749 1.04434971 0.34384518\n",
      " 0.89501693 0.51323909 0.76338832 0.71528929]\n",
      "[0.21032942 1.41335853 0.48794929 0.75831581 0.66194166 1.34829507\n",
      " 0.26660107 0.83538746 1.48588    1.40469189]\n"
     ]
    }
   ],
   "source": [
    "# 44. Consider a random 10x2 matrix representing cartesian coordinates, convert them to polar coordinates\n",
    "#                 hint: np.sqrt, np.arctan2\n",
    "\n",
    "a = np.random.random((10,2))\n",
    "x,y = a[:,0],a[:,1]                        # x = all rows in 0th col , y = all rows in 1st col\n",
    "\n",
    "R = np.sqrt(x**2 + y**2) \n",
    "T = np.arctan2(y,x)\n",
    "print(R)\n",
    "print(T)"
   ]
  },
  {
   "cell_type": "code",
   "execution_count": 32,
   "id": "3fd5193e",
   "metadata": {},
   "outputs": [
    {
     "name": "stdout",
     "output_type": "stream",
     "text": [
      "[0.89988775 0.         0.9177585  0.55671469 0.87592019 0.5182665\n",
      " 0.28561962 0.01662876 0.2241239  0.163138  ]\n"
     ]
    }
   ],
   "source": [
    "# 45. Create random vector of size 10 and replace the maximum value by 0 (hint: argmax)\n",
    "\n",
    "a = np.random.random(10)\n",
    "a[a.argmax()] = 0\n",
    "print(a)"
   ]
  },
  {
   "cell_type": "code",
   "execution_count": 39,
   "id": "3855062b",
   "metadata": {},
   "outputs": [
    {
     "name": "stdout",
     "output_type": "stream",
     "text": [
      "-128\n",
      "127\n",
      "-2147483648\n",
      "2147483647\n",
      "-9223372036854775808\n",
      "9223372036854775807\n",
      "\n",
      "-3.4028235e+38\n",
      "3.4028235e+38\n",
      "1.1920929e-07\n",
      "-1.7976931348623157e+308\n",
      "1.7976931348623157e+308\n",
      "2.220446049250313e-16\n"
     ]
    }
   ],
   "source": [
    "# 48. Print the minimum and maximum representable value for each numpy scalar type (hint: np.iinfo, np.finfo, eps)\n",
    "\n",
    "for dtype in [np.int8, np.int32, np.int64]:\n",
    "    print(np.iinfo(dtype).min)\n",
    "    print(np.iinfo(dtype).max)\n",
    "print()\n",
    "for dtype in [np.float32, np.float64]:\n",
    "    print(np.finfo(dtype).min)\n",
    "    print(np.finfo(dtype).max)\n",
    "    print(np.finfo(dtype).eps)    "
   ]
  },
  {
   "cell_type": "code",
   "execution_count": 43,
   "id": "a36589f8",
   "metadata": {},
   "outputs": [
    {
     "name": "stdout",
     "output_type": "stream",
     "text": [
      "[[0. 0. 0. 0. 0.]\n",
      " [0. 0. 0. 0. 0.]\n",
      " [0. 0. 0. 0. 0.]\n",
      " [0. 0. 0. 0. 0.]\n",
      " [0. 0. 0. 0. 0.]]\n"
     ]
    }
   ],
   "source": [
    "# 49. How to print all the values of an array?\n",
    "\n",
    "np.set_printoptions(threshold=float(\"inf\"))     # optional statement\n",
    "Z = np.zeros((5,5))\n",
    "print(Z)"
   ]
  },
  {
   "cell_type": "code",
   "execution_count": 44,
   "id": "d53e2017",
   "metadata": {},
   "outputs": [
    {
     "name": "stdout",
     "output_type": "stream",
     "text": [
      "[((0., 0.), (0., 0., 0.)) ((0., 0.), (0., 0., 0.))\n",
      " ((0., 0.), (0., 0., 0.)) ((0., 0.), (0., 0., 0.))\n",
      " ((0., 0.), (0., 0., 0.)) ((0., 0.), (0., 0., 0.))\n",
      " ((0., 0.), (0., 0., 0.)) ((0., 0.), (0., 0., 0.))\n",
      " ((0., 0.), (0., 0., 0.)) ((0., 0.), (0., 0., 0.))]\n"
     ]
    },
    {
     "name": "stderr",
     "output_type": "stream",
     "text": [
      "<ipython-input-44-6402fea20f0e>:3: FutureWarning: Passing (type, 1) or '1type' as a synonym of type is deprecated; in a future version of numpy, it will be understood as (type, (1,)) / '(1,)type'.\n",
      "  a = np.zeros(10, [('position' , [('x',float,1),('y',float,1)]),\n"
     ]
    }
   ],
   "source": [
    "# 51. Create a structured array representing a position (x,y) and a color (r,g,b)\n",
    "\n",
    "a = np.zeros(10, [('position' , [('x',float,1),('y',float,1)]),\n",
    "                 ('color' , [('r',float,1),('g',float,1),('b',float,1)])])\n",
    "print(a)"
   ]
  },
  {
   "cell_type": "code",
   "execution_count": 45,
   "id": "8598b51b",
   "metadata": {},
   "outputs": [
    {
     "name": "stdout",
     "output_type": "stream",
     "text": [
      "[[ 1  2  3  4  5]\n",
      " [ 6 -1 -1  7  8]\n",
      " [-1 -1  9 10 11]]\n"
     ]
    },
    {
     "name": "stderr",
     "output_type": "stream",
     "text": [
      "<ipython-input-45-c02ef35778ab>:15: DeprecationWarning: `np.int` is a deprecated alias for the builtin `int`. To silence this warning, use `int` by itself. Doing this will not modify any behavior and is safe. When replacing `np.int`, you may wish to use e.g. `np.int64` or `np.int32` to specify the precision. If you wish to review your current use, check the release note link for additional information.\n",
      "Deprecated in NumPy 1.20; for more details and guidance: https://numpy.org/devdocs/release/1.20.0-notes.html#deprecations\n",
      "  Z = np.genfromtxt(s, delimiter=\",\", dtype=np.int)\n"
     ]
    }
   ],
   "source": [
    "# 54. How to read the following file? (★★☆)\n",
    "#        1, 2, 3, 4, 5\n",
    "#        6,  ,  , 7, 8\n",
    "#         ,  , 9,10,11\n",
    "#    hint: np.genfromtxt\n",
    "\n",
    "from io import StringIO\n",
    "\n",
    "s = StringIO('''1, 2, 3, 4, 5\n",
    "\n",
    "                6,  ,  , 7, 8\n",
    "\n",
    "                 ,  , 9,10,11\n",
    "''')\n",
    "Z = np.genfromtxt(s, delimiter=\",\", dtype=np.int)\n",
    "print(Z)"
   ]
  },
  {
   "cell_type": "code",
   "execution_count": 2,
   "id": "458e587f",
   "metadata": {},
   "outputs": [
    {
     "name": "stdout",
     "output_type": "stream",
     "text": [
      "[[ 0.01841036  0.44941094 -0.36873673  0.07181333  0.22964914 -0.37568869\n",
      "  -0.21998786  0.37355306 -0.29412552  0.11570196]\n",
      " [ 0.50733756  0.13258669 -0.31645655 -0.06549796  0.51872228 -0.35314444\n",
      "  -0.33970244 -0.23114483 -0.26311081  0.4104105 ]\n",
      " [-0.15700355  0.26308833 -0.16692928 -0.08016125 -0.28789213  0.18128503\n",
      "  -0.14066623  0.16631525  0.30418684 -0.08222302]\n",
      " [ 0.01949116 -0.00222886  0.28525171 -0.11152073  0.26533055  0.16307111\n",
      "   0.38699701 -0.33656173 -0.46303881 -0.2067914 ]\n",
      " [ 0.09685489  0.08021172  0.04721324  0.31503297 -0.05382971 -0.41367958\n",
      "   0.06953062  0.33287443 -0.17441117 -0.29979741]]\n"
     ]
    }
   ],
   "source": [
    "# 58. Subtract the mean of each row of a matrix --- hint: mean(axis=,keepdims=)\n",
    "\n",
    "X = np.random.rand(5, 10)\n",
    "\n",
    "# Recent versions of numpy\n",
    "Y = X - X.mean(axis=1, keepdims=True)            # Older versions: Y = X - X.mean(axis=1).reshape(-1, 1)\n",
    "print(Y)"
   ]
  },
  {
   "cell_type": "code",
   "execution_count": 5,
   "id": "ed6aad9c",
   "metadata": {},
   "outputs": [
    {
     "name": "stdout",
     "output_type": "stream",
     "text": [
      "[[3 1 7]\n",
      " [6 7 0]\n",
      " [7 8 9]]\n",
      "\n",
      "[[3 1 7]\n",
      " [6 7 0]\n",
      " [7 8 9]]\n"
     ]
    }
   ],
   "source": [
    "# 59. How to sort an array by the nth column? ---- hint: argsort\n",
    "\n",
    "Z = np.random.randint(0,10,(3,3))\n",
    "print(Z)\n",
    "print()\n",
    "print(Z[Z[:,1].argsort()])"
   ]
  },
  {
   "cell_type": "code",
   "execution_count": 9,
   "id": "1082572b",
   "metadata": {},
   "outputs": [
    {
     "name": "stdout",
     "output_type": "stream",
     "text": [
      "[[1 0 2 0 1 2 0 0 1 2]\n",
      " [2 2 2 1 1 0 1 2 1 1]\n",
      " [1 0 0 1 2 1 1 2 1 2]]\n",
      "False\n"
     ]
    }
   ],
   "source": [
    "# 60. How to tell if a given 2D array has null columns? ----- hint: any, ~\n",
    "\n",
    "Z = np.random.randint(0,3,(3,10))\n",
    "print(Z)\n",
    "print((~Z.any(axis=0)).any())"
   ]
  },
  {
   "cell_type": "code",
   "execution_count": 10,
   "id": "84779313",
   "metadata": {},
   "outputs": [
    {
     "name": "stdout",
     "output_type": "stream",
     "text": [
      "0.464096331423962\n"
     ]
    }
   ],
   "source": [
    "# 61. Find the nearest value from a given value in an array ---- hint: np.abs, argmin, flat\n",
    "\n",
    "a = np.random.uniform(0,1,10)\n",
    "b = 0.5\n",
    "value = a.flat[np.abs(a - b).argmin()]\n",
    "print(value)"
   ]
  },
  {
   "cell_type": "code",
   "execution_count": 11,
   "id": "2e1ca047",
   "metadata": {},
   "outputs": [
    {
     "name": "stdout",
     "output_type": "stream",
     "text": [
      "[0. 7. 0. 6. 5. 0. 0. 0. 0. 3.]\n"
     ]
    }
   ],
   "source": [
    "# 65. How to accumulate elements of a vector (X) to an array (F) based on an index list(I)? ---- hint: np.bincount\n",
    "\n",
    "X = [1,2,3,4,5,6]\n",
    "I = [1,3,9,3,4,1]           # index value\n",
    "F = np.bincount(I,X)\n",
    "print(F)"
   ]
  },
  {
   "cell_type": "code",
   "execution_count": 12,
   "id": "0dd644b1",
   "metadata": {},
   "outputs": [
    {
     "data": {
      "text/plain": [
       "array([1.9506089 , 1.39146087, 1.18245405, 1.87632676, 1.07572896])"
      ]
     },
     "execution_count": 12,
     "metadata": {},
     "output_type": "execute_result"
    }
   ],
   "source": [
    "# 69. How to get the diagonal of a dot product? -----  hint: np.diag\n",
    "\n",
    "A = np.random.uniform(0,1,(5,5))\n",
    "B = np.random.uniform(0,1,(5,5))\n",
    "\n",
    "np.diag(np.dot(A, B))"
   ]
  },
  {
   "cell_type": "code",
   "execution_count": 13,
   "id": "82e8512b",
   "metadata": {},
   "outputs": [
    {
     "name": "stdout",
     "output_type": "stream",
     "text": [
      "[[[2. 2. 2.]\n",
      "  [2. 2. 2.]\n",
      "  [2. 2. 2.]\n",
      "  [2. 2. 2.]\n",
      "  [2. 2. 2.]]\n",
      "\n",
      " [[2. 2. 2.]\n",
      "  [2. 2. 2.]\n",
      "  [2. 2. 2.]\n",
      "  [2. 2. 2.]\n",
      "  [2. 2. 2.]]\n",
      "\n",
      " [[2. 2. 2.]\n",
      "  [2. 2. 2.]\n",
      "  [2. 2. 2.]\n",
      "  [2. 2. 2.]\n",
      "  [2. 2. 2.]]\n",
      "\n",
      " [[2. 2. 2.]\n",
      "  [2. 2. 2.]\n",
      "  [2. 2. 2.]\n",
      "  [2. 2. 2.]\n",
      "  [2. 2. 2.]]\n",
      "\n",
      " [[2. 2. 2.]\n",
      "  [2. 2. 2.]\n",
      "  [2. 2. 2.]\n",
      "  [2. 2. 2.]\n",
      "  [2. 2. 2.]]]\n"
     ]
    }
   ],
   "source": [
    "# 71. Consider an array of dimension (5,5,3), how to mulitply it by an array with dimensions (5,5)? \n",
    "#            hint: array[:, :, None]\n",
    "\n",
    "A = np.ones((5,5,3))\n",
    "B = 2*np.ones((5,5))\n",
    "print(A * B[:,:,None])"
   ]
  },
  {
   "cell_type": "code",
   "execution_count": 14,
   "id": "40dc62fe",
   "metadata": {},
   "outputs": [
    {
     "name": "stdout",
     "output_type": "stream",
     "text": [
      "[[ 5  6  7  8  9]\n",
      " [ 0  1  2  3  4]\n",
      " [10 11 12 13 14]\n",
      " [15 16 17 18 19]\n",
      " [20 21 22 23 24]]\n"
     ]
    }
   ],
   "source": [
    "# 72. How to swap two rows of an array? -----------   hint: array[[]] = array[[]]\n",
    "\n",
    "A = np.arange(25).reshape(5,5)\n",
    "A[[0,1]] = A[[1,0]]\n",
    "print(A)"
   ]
  },
  {
   "cell_type": "code",
   "execution_count": 15,
   "id": "810a70a8",
   "metadata": {},
   "outputs": [
    {
     "name": "stdout",
     "output_type": "stream",
     "text": [
      "[1 1 2 3 4 4 6]\n"
     ]
    }
   ],
   "source": [
    "#74. Given an array C that is a bincount, how to produce an array A such that np.bincount(A) == C? hint: np.repeat\n",
    "    \n",
    "C = np.bincount([1,1,2,3,4,4,6])\n",
    "A = np.repeat(np.arange(len(C)), C)\n",
    "print(A)"
   ]
  },
  {
   "cell_type": "code",
   "execution_count": 18,
   "id": "1bd31adb",
   "metadata": {},
   "outputs": [
    {
     "name": "stdout",
     "output_type": "stream",
     "text": [
      "9\n"
     ]
    }
   ],
   "source": [
    "# 83. How to find the most frequent value in an array? ------ hint: np.bincount, argmax\n",
    "\n",
    "a = np.random.randint(0,10,50)\n",
    "value = np.bincount(a).argmax()\n",
    "print(value)"
   ]
  }
 ],
 "metadata": {
  "kernelspec": {
   "display_name": "Python 3",
   "language": "python",
   "name": "python3"
  },
  "language_info": {
   "codemirror_mode": {
    "name": "ipython",
    "version": 3
   },
   "file_extension": ".py",
   "mimetype": "text/x-python",
   "name": "python",
   "nbconvert_exporter": "python",
   "pygments_lexer": "ipython3",
   "version": "3.8.8"
  }
 },
 "nbformat": 4,
 "nbformat_minor": 5
}
